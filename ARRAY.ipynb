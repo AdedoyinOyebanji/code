{
 "cells": [
  {
   "cell_type": "code",
   "execution_count": 1,
   "id": "6f46b6a4",
   "metadata": {},
   "outputs": [],
   "source": [
    "import numpy as np"
   ]
  },
  {
   "cell_type": "code",
   "execution_count": 2,
   "id": "3d726c47",
   "metadata": {},
   "outputs": [],
   "source": [
    "mat = np.arange(1,25).reshape(6,4)"
   ]
  },
  {
   "cell_type": "code",
   "execution_count": 3,
   "id": "819020c2",
   "metadata": {},
   "outputs": [
    {
     "data": {
      "text/plain": [
       "array([[ 1,  2,  3,  4],\n",
       "       [ 5,  6,  7,  8],\n",
       "       [ 9, 10, 11, 12],\n",
       "       [13, 14, 15, 16],\n",
       "       [17, 18, 19, 20],\n",
       "       [21, 22, 23, 24]])"
      ]
     },
     "execution_count": 3,
     "metadata": {},
     "output_type": "execute_result"
    }
   ],
   "source": [
    "mat"
   ]
  },
  {
   "cell_type": "code",
   "execution_count": 36,
   "id": "872d54c5",
   "metadata": {},
   "outputs": [
    {
     "data": {
      "text/plain": [
       "array([[ 9, 10, 11, 12],\n",
       "       [13, 14, 15, 16]])"
      ]
     },
     "execution_count": 36,
     "metadata": {},
     "output_type": "execute_result"
    }
   ],
   "source": [
    "mat [[2,3]]"
   ]
  },
  {
   "cell_type": "code",
   "execution_count": 43,
   "id": "10487915",
   "metadata": {},
   "outputs": [
    {
     "data": {
      "text/plain": [
       "array([[10, 11],\n",
       "       [14, 15]])"
      ]
     },
     "execution_count": 43,
     "metadata": {},
     "output_type": "execute_result"
    }
   ],
   "source": [
    "mat [[2,3],1:3]"
   ]
  },
  {
   "cell_type": "code",
   "execution_count": 49,
   "id": "359d8b4d",
   "metadata": {},
   "outputs": [
    {
     "data": {
      "text/plain": [
       "array([[ 5,  6,  7,  8],\n",
       "       [ 9, 10, 11, 12],\n",
       "       [13, 14, 15, 16],\n",
       "       [17, 18, 19, 20],\n",
       "       [21, 22, 23, 24]])"
      ]
     },
     "execution_count": 49,
     "metadata": {},
     "output_type": "execute_result"
    }
   ],
   "source": [
    "mat [[1, 2, 3, 4, 5]]"
   ]
  },
  {
   "cell_type": "code",
   "execution_count": 53,
   "id": "489a720f",
   "metadata": {},
   "outputs": [
    {
     "data": {
      "text/plain": [
       "array([[ 6,  7,  8],\n",
       "       [10, 11, 12],\n",
       "       [14, 15, 16],\n",
       "       [18, 19, 20],\n",
       "       [22, 23, 24]])"
      ]
     },
     "execution_count": 53,
     "metadata": {},
     "output_type": "execute_result"
    }
   ],
   "source": [
    "mat [[1, 2, 3, 4, 5], 1:]"
   ]
  },
  {
   "cell_type": "code",
   "execution_count": 54,
   "id": "78899ddf",
   "metadata": {},
   "outputs": [
    {
     "data": {
      "text/plain": [
       "array([[ 9, 10, 11, 12],\n",
       "       [17, 18, 19, 20]])"
      ]
     },
     "execution_count": 54,
     "metadata": {},
     "output_type": "execute_result"
    }
   ],
   "source": [
    "mat[[2,4]]"
   ]
  },
  {
   "cell_type": "code",
   "execution_count": 93,
   "id": "67270bf5",
   "metadata": {},
   "outputs": [
    {
     "data": {
      "text/plain": [
       "array([[10, 11, 12],\n",
       "       [18, 19, 20]])"
      ]
     },
     "execution_count": 93,
     "metadata": {},
     "output_type": "execute_result"
    }
   ],
   "source": [
    "mat[[2,4], 1:]"
   ]
  },
  {
   "cell_type": "code",
   "execution_count": 103,
   "id": "3096abc1",
   "metadata": {},
   "outputs": [
    {
     "data": {
      "text/plain": [
       "array([[10, 12],\n",
       "       [18, 20]])"
      ]
     },
     "execution_count": 103,
     "metadata": {},
     "output_type": "execute_result"
    }
   ],
   "source": [
    "mat[[2,4], 1::2]"
   ]
  },
  {
   "cell_type": "code",
   "execution_count": 83,
   "id": "7feb66d3",
   "metadata": {},
   "outputs": [
    {
     "data": {
      "text/plain": [
       "array([[ 1,  2,  3,  4],\n",
       "       [ 9, 10, 11, 12],\n",
       "       [17, 18, 19, 20]])"
      ]
     },
     "execution_count": 83,
     "metadata": {},
     "output_type": "execute_result"
    }
   ],
   "source": [
    "mat[[0,2,4]]"
   ]
  },
  {
   "cell_type": "code",
   "execution_count": 91,
   "id": "ad39d8be",
   "metadata": {},
   "outputs": [
    {
     "data": {
      "text/plain": [
       "array([[ 1,  4],\n",
       "       [ 9, 12],\n",
       "       [17, 20]])"
      ]
     },
     "execution_count": 91,
     "metadata": {},
     "output_type": "execute_result"
    }
   ],
   "source": [
    "mat[[0,2,4],::3]"
   ]
  },
  {
   "cell_type": "code",
   "execution_count": 106,
   "id": "720e65fe",
   "metadata": {},
   "outputs": [
    {
     "data": {
      "text/plain": [
       "array([[ 2,  3],\n",
       "       [14, 15]])"
      ]
     },
     "execution_count": 106,
     "metadata": {},
     "output_type": "execute_result"
    }
   ],
   "source": [
    "mat[[0,3], 1:3]"
   ]
  },
  {
   "cell_type": "code",
   "execution_count": 107,
   "id": "bfd2d610",
   "metadata": {},
   "outputs": [
    {
     "data": {
      "text/plain": [
       "array([[ 5,  6,  7,  8],\n",
       "       [13, 14, 15, 16],\n",
       "       [17, 18, 19, 20]])"
      ]
     },
     "execution_count": 107,
     "metadata": {},
     "output_type": "execute_result"
    }
   ],
   "source": [
    "mat[[1,3,4]]"
   ]
  },
  {
   "cell_type": "code",
   "execution_count": 213,
   "id": "559e9369",
   "metadata": {},
   "outputs": [
    {
     "data": {
      "text/plain": [
       "array([[ 5,  8],\n",
       "       [13, 16],\n",
       "       [17, 20]])"
      ]
     },
     "execution_count": 213,
     "metadata": {},
     "output_type": "execute_result"
    }
   ],
   "source": [
    "mat[[1,3,4], ::3]"
   ]
  },
  {
   "cell_type": "markdown",
   "id": "e325cd1a",
   "metadata": {},
   "source": [
    "# BOOLEAN ASSIGNMENT"
   ]
  },
  {
   "cell_type": "code",
   "execution_count": 223,
   "id": "71ddbd4b",
   "metadata": {},
   "outputs": [],
   "source": [
    "np.random?"
   ]
  },
  {
   "cell_type": "code",
   "execution_count": 267,
   "id": "55717c04",
   "metadata": {},
   "outputs": [],
   "source": [
    "np.random.seed(1)\n",
    "prices = np.random.randint (1000,10000,200)"
   ]
  },
  {
   "cell_type": "code",
   "execution_count": 268,
   "id": "26237574",
   "metadata": {},
   "outputs": [
    {
     "data": {
      "text/plain": [
       "array([1235, 6192, 1905, 8813, 3895, 6056, 1144, 5225, 8751, 4462, 6396,\n",
       "       6374, 3962, 3516, 9444, 4562, 5764, 9093, 7542, 1562, 9151, 4049,\n",
       "       1753, 2888, 2110, 7285, 7121, 2031, 5415, 3877, 4606, 3561, 9920,\n",
       "       7771, 1431, 5074, 1542, 2478, 2337, 8108, 9689, 2612, 4098, 2844,\n",
       "       3669, 1015, 3244, 8906, 2306, 2046, 4047, 2150, 4428, 1155, 5409,\n",
       "       1648, 8586, 2679, 8255, 8961, 5039, 1243, 2372, 2214, 8470, 6024,\n",
       "       6848, 6271, 5791, 3944, 6373, 1461, 2798, 5565, 2478, 5059, 1715,\n",
       "       7407, 7221, 3760, 6195, 8500, 2067, 8710, 4885, 7713, 8676, 1096,\n",
       "       1269, 7423, 1889, 1152, 4212, 9798, 8740, 1489, 1152, 4410, 5979,\n",
       "       3178, 8862, 6984, 3518, 4270, 9519, 8183, 1020, 7774, 2968, 7422,\n",
       "       7629, 4981, 3033, 1609, 6813, 2876, 4082, 8264, 1183, 7461, 4640,\n",
       "       8897, 9597, 4303, 8264, 1505, 9147, 6145, 6617, 6006, 3189, 8796,\n",
       "       4718, 2741, 1696, 2979, 6656, 9642, 8493, 3468, 1869, 3808, 7165,\n",
       "       3267, 3737, 6423, 2485, 6582, 6677, 5752, 6354, 5547, 5509, 1843,\n",
       "       6588, 6168, 8456, 9445, 1668, 2311, 2052, 8498, 1109, 6731, 6716,\n",
       "       1591, 8337, 1832, 8788, 6331, 7932, 3092, 2694, 9667, 8955, 6371,\n",
       "       9583, 2455, 1878, 4827, 5196, 7035, 3499, 6726, 8399, 2834, 7976,\n",
       "       4572, 7350, 9337, 2191, 2187, 5561, 6788, 6782, 7602, 6785, 4302,\n",
       "       3288, 1690])"
      ]
     },
     "execution_count": 268,
     "metadata": {},
     "output_type": "execute_result"
    }
   ],
   "source": [
    "prices"
   ]
  },
  {
   "cell_type": "code",
   "execution_count": 253,
   "id": "2a1417df",
   "metadata": {},
   "outputs": [],
   "source": [
    "cheap = (1000-2499)\n",
    "fair = (2500-4999) \n",
    "expensive = (5000-10000)"
   ]
  },
  {
   "cell_type": "code",
   "execution_count": 273,
   "id": "42ba2abb",
   "metadata": {},
   "outputs": [
    {
     "data": {
      "text/plain": [
       "array([1235, 1905, 1144, 1562, 1753, 2110, 2031, 1431, 1542, 2478, 2337,\n",
       "       1015, 2306, 2046, 2150, 1155, 1648, 1243, 2372, 2214, 1461, 2478,\n",
       "       1715, 2067, 1096, 1269, 1889, 1152, 1489, 1152, 1020, 1609, 1183,\n",
       "       1505, 1696, 1869, 2485, 1843, 1668, 2311, 2052, 1109, 1591, 1832,\n",
       "       2455, 1878, 2191, 2187, 1690])"
      ]
     },
     "execution_count": 273,
     "metadata": {},
     "output_type": "execute_result"
    }
   ],
   "source": [
    " cheap = prices[(prices <=2499)]\n",
    "cheap\n",
    "    \n"
   ]
  },
  {
   "cell_type": "code",
   "execution_count": 278,
   "id": "68e12503",
   "metadata": {},
   "outputs": [
    {
     "data": {
      "text/plain": [
       "array([3895, 4462, 3962, 3516, 4562, 4049, 2888, 3877, 4606, 3561, 2612,\n",
       "       4098, 2844, 3669, 3244, 4047, 4428, 2679, 3944, 2798, 3760, 4885,\n",
       "       4212, 4410, 3178, 3518, 4270, 2968, 4981, 3033, 2876, 4082, 4640,\n",
       "       4303, 3189, 4718, 2741, 2979, 3468, 3808, 3267, 3737, 3092, 2694,\n",
       "       4827, 3499, 2834, 4572, 4302, 3288])"
      ]
     },
     "execution_count": 278,
     "metadata": {},
     "output_type": "execute_result"
    }
   ],
   "source": [
    "fair = prices [(prices >= 2500) & (prices <= 4999)] \n",
    "fair"
   ]
  },
  {
   "cell_type": "code",
   "execution_count": 280,
   "id": "5345621e",
   "metadata": {},
   "outputs": [
    {
     "data": {
      "text/plain": [
       "array([6192, 8813, 6056, 5225, 8751, 6396, 6374, 9444, 5764, 9093, 7542,\n",
       "       9151, 7285, 7121, 5415, 9920, 7771, 5074, 8108, 9689, 8906, 5409,\n",
       "       8586, 8255, 8961, 5039, 8470, 6024, 6848, 6271, 5791, 6373, 5565,\n",
       "       5059, 7407, 7221, 6195, 8500, 8710, 7713, 8676, 7423, 9798, 8740,\n",
       "       5979, 8862, 6984, 9519, 8183, 7774, 7422, 7629, 6813, 8264, 7461,\n",
       "       8897, 9597, 8264, 9147, 6145, 6617, 6006, 8796, 6656, 9642, 8493,\n",
       "       7165, 6423, 6582, 6677, 5752, 6354, 5547, 5509, 6588, 6168, 8456,\n",
       "       9445, 8498, 6731, 6716, 8337, 8788, 6331, 7932, 9667, 8955, 6371,\n",
       "       9583, 5196, 7035, 6726, 8399, 7976, 7350, 9337, 5561, 6788, 6782,\n",
       "       7602, 6785])"
      ]
     },
     "execution_count": 280,
     "metadata": {},
     "output_type": "execute_result"
    }
   ],
   "source": [
    "expensive = prices[(prices >=5000)]\n",
    "expensive"
   ]
  },
  {
   "cell_type": "code",
   "execution_count": 282,
   "id": "91264dcb",
   "metadata": {},
   "outputs": [
    {
     "data": {
      "text/plain": [
       "49"
      ]
     },
     "execution_count": 282,
     "metadata": {},
     "output_type": "execute_result"
    }
   ],
   "source": [
    "x= len(cheap)\n",
    "x"
   ]
  },
  {
   "cell_type": "code",
   "execution_count": 283,
   "id": "5f98daea",
   "metadata": {},
   "outputs": [
    {
     "data": {
      "text/plain": [
       "50"
      ]
     },
     "execution_count": 283,
     "metadata": {},
     "output_type": "execute_result"
    }
   ],
   "source": [
    "y = len (fair)\n",
    "y"
   ]
  },
  {
   "cell_type": "code",
   "execution_count": 284,
   "id": "cee613c7",
   "metadata": {},
   "outputs": [
    {
     "data": {
      "text/plain": [
       "101"
      ]
     },
     "execution_count": 284,
     "metadata": {},
     "output_type": "execute_result"
    }
   ],
   "source": [
    "z = len(expensive)\n",
    "z"
   ]
  },
  {
   "cell_type": "code",
   "execution_count": 285,
   "id": "9b85fb02",
   "metadata": {},
   "outputs": [
    {
     "data": {
      "text/plain": [
       "200"
      ]
     },
     "execution_count": 285,
     "metadata": {},
     "output_type": "execute_result"
    }
   ],
   "source": [
    "Total = x + y+ z\n",
    "Total"
   ]
  },
  {
   "cell_type": "code",
   "execution_count": null,
   "id": "058ef6a9",
   "metadata": {},
   "outputs": [],
   "source": []
  }
 ],
 "metadata": {
  "kernelspec": {
   "display_name": "Python 3 (ipykernel)",
   "language": "python",
   "name": "python3"
  },
  "language_info": {
   "codemirror_mode": {
    "name": "ipython",
    "version": 3
   },
   "file_extension": ".py",
   "mimetype": "text/x-python",
   "name": "python",
   "nbconvert_exporter": "python",
   "pygments_lexer": "ipython3",
   "version": "3.9.7"
  }
 },
 "nbformat": 4,
 "nbformat_minor": 5
}
