{
 "cells": [
  {
   "cell_type": "markdown",
   "id": "d9794a1c",
   "metadata": {},
   "source": [
    " ###  LISTS- IN BUILT FUNCTIONS "
   ]
  },
  {
   "cell_type": "code",
   "execution_count": 258,
   "id": "279fdb4e",
   "metadata": {},
   "outputs": [
    {
     "data": {
      "text/plain": [
       "[1, 2, 3, 4, 5, 6]"
      ]
     },
     "execution_count": 258,
     "metadata": {},
     "output_type": "execute_result"
    }
   ],
   "source": [
    "x = [1,2,3,4,5,6]\n",
    "x"
   ]
  },
  {
   "cell_type": "code",
   "execution_count": 259,
   "id": "024fa099",
   "metadata": {},
   "outputs": [
    {
     "data": {
      "text/plain": [
       "6"
      ]
     },
     "execution_count": 259,
     "metadata": {},
     "output_type": "execute_result"
    }
   ],
   "source": [
    "len(x)\n",
    "#len tells you the length of the list"
   ]
  },
  {
   "cell_type": "code",
   "execution_count": 260,
   "id": "74d64ed5",
   "metadata": {},
   "outputs": [
    {
     "data": {
      "text/plain": [
       "1"
      ]
     },
     "execution_count": 260,
     "metadata": {},
     "output_type": "execute_result"
    }
   ],
   "source": [
    "min(x)\n",
    "#min and max gives the mininum and maximum values in your list"
   ]
  },
  {
   "cell_type": "code",
   "execution_count": 261,
   "id": "449d0610",
   "metadata": {},
   "outputs": [
    {
     "data": {
      "text/plain": [
       "6"
      ]
     },
     "execution_count": 261,
     "metadata": {},
     "output_type": "execute_result"
    }
   ],
   "source": [
    "max(x)"
   ]
  },
  {
   "cell_type": "code",
   "execution_count": 262,
   "id": "3eac4601",
   "metadata": {},
   "outputs": [
    {
     "data": {
      "text/plain": [
       "21"
      ]
     },
     "execution_count": 262,
     "metadata": {},
     "output_type": "execute_result"
    }
   ],
   "source": [
    "sum(x)\n",
    "#sum gives the total of the list"
   ]
  },
  {
   "cell_type": "code",
   "execution_count": 263,
   "id": "b4aa9f4a",
   "metadata": {},
   "outputs": [
    {
     "data": {
      "text/plain": [
       "3.5"
      ]
     },
     "execution_count": 263,
     "metadata": {},
     "output_type": "execute_result"
    }
   ],
   "source": [
    "#to get average, you divide sum of the list and the len\n",
    "sum(x)/len(x)"
   ]
  },
  {
   "cell_type": "code",
   "execution_count": 264,
   "id": "ef5f376d",
   "metadata": {},
   "outputs": [],
   "source": [
    "y = [1,2,3,4,5,6,7,8,9,10]\n"
   ]
  },
  {
   "cell_type": "code",
   "execution_count": 265,
   "id": "8cf474be",
   "metadata": {},
   "outputs": [],
   "source": [
    "y.append([15,89])\n",
    "\n",
    "#append adds an item to the end of the list, append can only take in one arguement\n",
    "#extend does the same as append, but can add multiple elements."
   ]
  },
  {
   "cell_type": "code",
   "execution_count": 266,
   "id": "fa1426b9",
   "metadata": {},
   "outputs": [
    {
     "name": "stdout",
     "output_type": "stream",
     "text": [
      "[1, 2, 3, 4, 5, 6, 7, 8, 9, 10, [15, 89]]\n"
     ]
    }
   ],
   "source": [
    "print(y)"
   ]
  },
  {
   "cell_type": "code",
   "execution_count": 267,
   "id": "609bbfd2",
   "metadata": {},
   "outputs": [
    {
     "data": {
      "text/plain": [
       "[1, 2, 3, 4, 5, 6]"
      ]
     },
     "execution_count": 267,
     "metadata": {},
     "output_type": "execute_result"
    }
   ],
   "source": [
    "x"
   ]
  },
  {
   "cell_type": "code",
   "execution_count": 268,
   "id": "48be8293",
   "metadata": {},
   "outputs": [],
   "source": [
    "y.extend(x)"
   ]
  },
  {
   "cell_type": "code",
   "execution_count": 269,
   "id": "43e94988",
   "metadata": {},
   "outputs": [
    {
     "name": "stdout",
     "output_type": "stream",
     "text": [
      "[1, 2, 3, 4, 5, 6, 7, 8, 9, 10, [15, 89], 1, 2, 3, 4, 5, 6]\n"
     ]
    }
   ],
   "source": [
    "print(y)"
   ]
  },
  {
   "cell_type": "code",
   "execution_count": 270,
   "id": "42d5f3ff",
   "metadata": {},
   "outputs": [],
   "source": [
    "y.insert(4,\"DEE\")\n",
    "#the insert helps add a value in any position, if the index/position is not stated insert adds the item as the last"
   ]
  },
  {
   "cell_type": "code",
   "execution_count": 271,
   "id": "2de65bab",
   "metadata": {},
   "outputs": [
    {
     "name": "stdout",
     "output_type": "stream",
     "text": [
      "[1, 2, 3, 4, 'DEE', 5, 6, 7, 8, 9, 10, [15, 89], 1, 2, 3, 4, 5, 6]\n"
     ]
    }
   ],
   "source": [
    "print(y)"
   ]
  },
  {
   "cell_type": "code",
   "execution_count": 272,
   "id": "c174e1eb",
   "metadata": {},
   "outputs": [
    {
     "ename": "IndexError",
     "evalue": "pop index out of range",
     "output_type": "error",
     "traceback": [
      "\u001b[1;31m---------------------------------------------------------------------------\u001b[0m",
      "\u001b[1;31mIndexError\u001b[0m                                Traceback (most recent call last)",
      "\u001b[1;32m~\\AppData\\Local\\Temp/ipykernel_8676/249358920.py\u001b[0m in \u001b[0;36m<module>\u001b[1;34m\u001b[0m\n\u001b[1;32m----> 1\u001b[1;33m \u001b[0my\u001b[0m\u001b[1;33m.\u001b[0m\u001b[0mpop\u001b[0m\u001b[1;33m(\u001b[0m\u001b[1;36m20\u001b[0m\u001b[1;33m)\u001b[0m\u001b[1;33m\u001b[0m\u001b[1;33m\u001b[0m\u001b[0m\n\u001b[0m\u001b[0;32m      2\u001b[0m \u001b[1;31m#pop is used to remove the last element from the list, if no index is specified, pop() returns and removes the last element from the list\u001b[0m\u001b[1;33m\u001b[0m\u001b[1;33m\u001b[0m\u001b[0m\n",
      "\u001b[1;31mIndexError\u001b[0m: pop index out of range"
     ]
    }
   ],
   "source": [
    "y.pop(20)\n",
    "#pop is used to remove the last element from the list, if no index is specified, pop() returns and removes the last element from the list"
   ]
  },
  {
   "cell_type": "code",
   "execution_count": null,
   "id": "41839bb8",
   "metadata": {},
   "outputs": [],
   "source": [
    "y.remove(10)\n",
    "#remove helps  to remove ,if there are 2 values of that ellement, it removes only the first occurence of that word"
   ]
  },
  {
   "cell_type": "code",
   "execution_count": null,
   "id": "fa78c829",
   "metadata": {},
   "outputs": [],
   "source": [
    "print(y)"
   ]
  },
  {
   "cell_type": "code",
   "execution_count": null,
   "id": "adb141e8",
   "metadata": {},
   "outputs": [],
   "source": [
    "num =[\"good\",\"girl\", \"Dee\"]"
   ]
  },
  {
   "cell_type": "code",
   "execution_count": null,
   "id": "bc9b63ad",
   "metadata": {},
   "outputs": [],
   "source": [
    "#clear functions removes all the element\n",
    "num.clear()\n"
   ]
  },
  {
   "cell_type": "code",
   "execution_count": null,
   "id": "b8c2d82b",
   "metadata": {},
   "outputs": [],
   "source": [
    "num"
   ]
  },
  {
   "cell_type": "code",
   "execution_count": null,
   "id": "cd7c896a",
   "metadata": {},
   "outputs": [],
   "source": [
    "del y[2]\n",
    "#del is used to delete the element at that index\n",
    "print(y)"
   ]
  },
  {
   "cell_type": "code",
   "execution_count": null,
   "id": "b52dafa3",
   "metadata": {},
   "outputs": [],
   "source": [
    "y.count(99)\n",
    "#the count function counts the number of occurence of the element, it returns the count of the item passed as an arguement, if the given item is not in the list, it returns 0"
   ]
  },
  {
   "cell_type": "code",
   "execution_count": null,
   "id": "37e7e970",
   "metadata": {},
   "outputs": [],
   "source": [
    "y.reverse()\n",
    "#this reverses the item\n",
    "y"
   ]
  },
  {
   "cell_type": "code",
   "execution_count": null,
   "id": "0f81f0fe",
   "metadata": {},
   "outputs": [],
   "source": [
    "dee = [1,2,3,0,8,0,8,5,2]"
   ]
  },
  {
   "cell_type": "code",
   "execution_count": null,
   "id": "bfd1bb92",
   "metadata": {},
   "outputs": [],
   "source": [
    "dee.sort()\n",
    "dee\n",
    "#sort arranges in increasing order, sort cannot work when the list contains string and integer.\n"
   ]
  },
  {
   "cell_type": "code",
   "execution_count": null,
   "id": "7c57ceb2",
   "metadata": {},
   "outputs": [],
   "source": [
    "#to sort in decreasing order,see below\n",
    "dee.sort(reverse =True)"
   ]
  },
  {
   "cell_type": "code",
   "execution_count": null,
   "id": "a32957a0",
   "metadata": {},
   "outputs": [],
   "source": [
    "dee"
   ]
  },
  {
   "cell_type": "code",
   "execution_count": null,
   "id": "421d30a5",
   "metadata": {},
   "outputs": [],
   "source": [
    "#index-gives the position of the element\n",
    "y.index(89)"
   ]
  },
  {
   "cell_type": "markdown",
   "id": "3f5910e3",
   "metadata": {},
   "source": [
    "# DICTIONARY- IN BUILT FUNCTIONS"
   ]
  },
  {
   "cell_type": "code",
   "execution_count": null,
   "id": "28a6bfeb",
   "metadata": {},
   "outputs": [],
   "source": [
    "person ={\"name\":\"Dee\", \"age\": 13, \"fam\": \"Oyess\"}\n",
    "num = {1:\"One\", 2: \"two\", 3: \"three\" , 4:\"four\" }\n"
   ]
  },
  {
   "cell_type": "code",
   "execution_count": null,
   "id": "bc2eb3f9",
   "metadata": {},
   "outputs": [],
   "source": [
    "person"
   ]
  },
  {
   "cell_type": "code",
   "execution_count": null,
   "id": "683dcf50",
   "metadata": {},
   "outputs": [],
   "source": [
    "person.values()\n",
    "#values returns only the values and not the keys"
   ]
  },
  {
   "cell_type": "code",
   "execution_count": null,
   "id": "e297a01f",
   "metadata": {},
   "outputs": [],
   "source": [
    "person.keys()\n",
    "#keys returns only the keys"
   ]
  },
  {
   "cell_type": "code",
   "execution_count": 273,
   "id": "2424749d",
   "metadata": {},
   "outputs": [
    {
     "data": {
      "text/plain": [
       "3"
      ]
     },
     "execution_count": 273,
     "metadata": {},
     "output_type": "execute_result"
    }
   ],
   "source": [
    "len(person)"
   ]
  },
  {
   "cell_type": "code",
   "execution_count": 274,
   "id": "d4318fb2",
   "metadata": {},
   "outputs": [],
   "source": [
    "#clear functions clear all the element\n",
    "num.clear()"
   ]
  },
  {
   "cell_type": "code",
   "execution_count": 275,
   "id": "c9aa2b38",
   "metadata": {},
   "outputs": [
    {
     "data": {
      "text/plain": [
       "{}"
      ]
     },
     "execution_count": 275,
     "metadata": {},
     "output_type": "execute_result"
    }
   ],
   "source": [
    "num"
   ]
  },
  {
   "cell_type": "code",
   "execution_count": 276,
   "id": "44e77366",
   "metadata": {},
   "outputs": [
    {
     "data": {
      "text/plain": [
       "dict_items([('name', 'Dee'), ('age', 13), ('fam', 'Oyess')])"
      ]
     },
     "execution_count": 276,
     "metadata": {},
     "output_type": "execute_result"
    }
   ],
   "source": [
    "person.items()"
   ]
  },
  {
   "cell_type": "code",
   "execution_count": 277,
   "id": "000a1c54",
   "metadata": {},
   "outputs": [
    {
     "data": {
      "text/plain": [
       "['age', 'fam', 'name']"
      ]
     },
     "execution_count": 277,
     "metadata": {},
     "output_type": "execute_result"
    }
   ],
   "source": [
    "sorted(person)\n",
    "#sorted arranges the keys in the dictionary in alphabetical order"
   ]
  },
  {
   "cell_type": "code",
   "execution_count": 278,
   "id": "02f55cd6",
   "metadata": {},
   "outputs": [
    {
     "data": {
      "text/plain": [
       "('fam', 'Oyess')"
      ]
     },
     "execution_count": 278,
     "metadata": {},
     "output_type": "execute_result"
    }
   ],
   "source": [
    "person.popitem()\n",
    "#the popitem function retuens the last element in the dictionary and removes the last item  in the dictionary"
   ]
  },
  {
   "cell_type": "code",
   "execution_count": 279,
   "id": "6d3fdb5c",
   "metadata": {},
   "outputs": [
    {
     "data": {
      "text/plain": [
       "{'name': 'Dee', 'age': 13}"
      ]
     },
     "execution_count": 279,
     "metadata": {},
     "output_type": "execute_result"
    }
   ],
   "source": [
    "person"
   ]
  },
  {
   "cell_type": "code",
   "execution_count": 280,
   "id": "e4b5dde3",
   "metadata": {},
   "outputs": [],
   "source": [
    "key ={'a','e','i','o','u'}\n"
   ]
  },
  {
   "cell_type": "code",
   "execution_count": 281,
   "id": "6d62d9b6",
   "metadata": {},
   "outputs": [
    {
     "data": {
      "text/plain": [
       "set"
      ]
     },
     "execution_count": 281,
     "metadata": {},
     "output_type": "execute_result"
    }
   ],
   "source": [
    "type(key)"
   ]
  },
  {
   "cell_type": "code",
   "execution_count": 282,
   "id": "33010002",
   "metadata": {},
   "outputs": [],
   "source": [
    "vowels =dict.fromkeys(key,'vowel')\n",
    "#the fromkeys() method creates a new dictionary from the given sequuence of elements with the value provided by the user"
   ]
  },
  {
   "cell_type": "code",
   "execution_count": 245,
   "id": "132e823c",
   "metadata": {},
   "outputs": [
    {
     "data": {
      "text/plain": [
       "{'a': 'vowel', 'o': 'vowel', 'u': 'vowel', 'e': 'vowel', 'i': 'vowel'}"
      ]
     },
     "execution_count": 245,
     "metadata": {},
     "output_type": "execute_result"
    }
   ],
   "source": [
    "vowels"
   ]
  },
  {
   "cell_type": "code",
   "execution_count": 246,
   "id": "81ff1bf9",
   "metadata": {},
   "outputs": [
    {
     "data": {
      "text/plain": [
       "dict"
      ]
     },
     "execution_count": 246,
     "metadata": {},
     "output_type": "execute_result"
    }
   ],
   "source": [
    "type(vowels)"
   ]
  },
  {
   "cell_type": "code",
   "execution_count": 247,
   "id": "17060592",
   "metadata": {},
   "outputs": [
    {
     "data": {
      "text/plain": [
       "'age'"
      ]
     },
     "execution_count": 247,
     "metadata": {},
     "output_type": "execute_result"
    }
   ],
   "source": [
    "min(person)\n",
    "#returns the minimum"
   ]
  },
  {
   "cell_type": "code",
   "execution_count": 248,
   "id": "e4b19797",
   "metadata": {},
   "outputs": [
    {
     "data": {
      "text/plain": [
       "'name'"
      ]
     },
     "execution_count": 248,
     "metadata": {},
     "output_type": "execute_result"
    }
   ],
   "source": [
    "max(person)\n",
    "#returns the maximum"
   ]
  },
  {
   "cell_type": "code",
   "execution_count": null,
   "id": "5101bb96",
   "metadata": {},
   "outputs": [],
   "source": []
  }
 ],
 "metadata": {
  "kernelspec": {
   "display_name": "Python 3 (ipykernel)",
   "language": "python",
   "name": "python3"
  },
  "language_info": {
   "codemirror_mode": {
    "name": "ipython",
    "version": 3
   },
   "file_extension": ".py",
   "mimetype": "text/x-python",
   "name": "python",
   "nbconvert_exporter": "python",
   "pygments_lexer": "ipython3",
   "version": "3.9.7"
  }
 },
 "nbformat": 4,
 "nbformat_minor": 5
}
